{
 "cells": [
  {
   "cell_type": "markdown",
   "metadata": {},
   "source": [
    "# Comentarios en la programacion"
   ]
  },
  {
   "cell_type": "markdown",
   "metadata": {},
   "source": [
    "👉 **Recomendación:**  Si estan trabajando con Visual Studio Code, recomiendo instalar la extension\n",
    "- [Better Comments]([/src/README.md](https://marketplace.visualstudio.com/items?itemName=aaron-bond.better-comments)) 📚"
   ]
  },
  {
   "cell_type": "markdown",
   "metadata": {},
   "source": []
  },
  {
   "cell_type": "code",
   "execution_count": null,
   "metadata": {},
   "outputs": [],
   "source": []
  },
  {
   "cell_type": "code",
   "execution_count": null,
   "metadata": {},
   "outputs": [],
   "source": [
    "\"\"\"\n",
    "1. Comentarios de Realce (# *)\n",
    "Estos comentarios se utilizan para resaltar o destacar información importante en tu código. \n",
    "\n",
    "\n",
    "# *  Robot gira durante 3 seg\n",
    "def main():\n",
    "    pass\n",
    "\n",
    "2. Comentarios de Importancia (# !)\n",
    "Se usan para resaltar advertencias o información crítica en el código.\n",
    "\n",
    "Ejemplo: \n",
    "# ! Probar este movimiento con un prop.\n",
    "\n",
    "3. Comentarios de Pregunta (# ?)\n",
    "Son útiles para plantear dudas o preguntas sobre el código que necesitan aclaración.\n",
    "\n",
    "Ejemplo:\n",
    "# ? ¿Es esta la forma más eficiente de buscar en la lista?\n",
    "\n",
    "4. Comentarios de Tareas (# TODO:)\n",
    "Indican tareas pendientes o futuras mejoras que deben implementarse en el código.\n",
    "\n",
    "Ejemplo:\n",
    "# TODO: Hacer que el brazo suba y baje 4 veces\n",
    "\n",
    "5. Comentarios de Parámetros (# @param)\n",
    "Documentan los parámetros de una función, proporcionando detalles sobre lo que se espera como entrada.\n",
    "\n",
    "Ejemplo: \n",
    "# @param velocidad: int - Velocidad de movimiento del mbot2\n",
    "\n",
    "6. Comentarios de Notas Generales (\"\")\n",
    "Se utilizan generalmente dentro de funciones para agregar notas generales o explicaciones que no necesariamente requieren acción, pero que proporcionan contexto o detalle adicionales. \n",
    "\n",
    "Ejemplo:\n",
    "def funcionComer(cComida: int):\n",
    "\"\"\n",
    "    Funcion para comer\n",
    "    TODO: Falta implementar que pasa si no hay comida\n",
    "    # ! NO TOCAR\n",
    "    # * Responsabilidad de gustavo\n",
    "    # ? ¿Que pasa si no hay comdia?\n",
    "    # @param cComida: int - Cantidad de comida restante\n",
    "\"\"\n",
    "\n",
    "\"\"\""
   ]
  }
 ],
 "metadata": {
  "kernelspec": {
   "display_name": "env",
   "language": "python",
   "name": "python3"
  },
  "language_info": {
   "codemirror_mode": {
    "name": "ipython",
    "version": 3
   },
   "file_extension": ".py",
   "mimetype": "text/x-python",
   "name": "python",
   "nbconvert_exporter": "python",
   "pygments_lexer": "ipython3",
   "version": "3.12.1"
  }
 },
 "nbformat": 4,
 "nbformat_minor": 2
}
