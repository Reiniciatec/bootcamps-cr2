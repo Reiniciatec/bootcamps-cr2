{
 "cells": [
  {
   "cell_type": "markdown",
   "metadata": {},
   "source": [
    "## Snippets de codigo para que llegues copies y pegues en tu editor de codigo favorito!"
   ]
  },
  {
   "cell_type": "markdown",
   "metadata": {},
   "source": [
    "### 1. Librerias"
   ]
  },
  {
   "cell_type": "code",
   "execution_count": null,
   "metadata": {},
   "outputs": [],
   "source": [
    "import cyberpi as cy\n",
    "from cyberpi import mbot2 as m\n",
    "import time"
   ]
  },
  {
   "cell_type": "markdown",
   "metadata": {},
   "source": [
    "### 2. Movimientos de motores"
   ]
  },
  {
   "cell_type": "code",
   "execution_count": null,
   "metadata": {},
   "outputs": [],
   "source": [
    "def ajustar_motores(velocidad_izquierda: int, velocidad_derecha: int):\n",
    "    \"\"\"\n",
    "    Ajusta las velocidades de los motores.\n",
    "\n",
    "    @param velocidad_izquierda (int): Velocidad del motor izquierdo.\n",
    "    @param velocidad_derecha (int): Velocidad del motor derecho.\n",
    "    \"\"\"\n",
    "    m.drive_power(velocidad_izquierda, velocidad_derecha)\n"
   ]
  },
  {
   "cell_type": "code",
   "execution_count": null,
   "metadata": {},
   "outputs": [],
   "source": [
    "def detener_robot():\n",
    "    \"\"\"\n",
    "    Detiene el robot.\n",
    "    \"\"\"\n",
    "    m.drive_power(0, 0)"
   ]
  },
  {
   "cell_type": "code",
   "execution_count": null,
   "metadata": {},
   "outputs": [],
   "source": [
    "def ajustar_motores_durante(velocidad_izquierda: int, velocidad_derecha: int, tiempo: float):\n",
    "    \"\"\"\n",
    "    Ajusta las velocidades de los motores durante un tiempo específico.\n",
    "\n",
    "    @param velocidad_izquierda (int): Velocidad del motor izquierdo.\n",
    "    @param velocidad_derecha (int): Velocidad del motor derecho.\n",
    "    @param tiempo (float): Tiempo en segundos durante el cual los motores funcionarán.\n",
    "    \"\"\"\n",
    "    ajustar_motores(velocidad_izquierda, velocidad_derecha)\n",
    "    time.sleep(tiempo)\n",
    "    detener_robot()  # Detener los motores después del tiempo especificado\n"
   ]
  },
  {
   "cell_type": "markdown",
   "metadata": {},
   "source": [
    "### 3. Sensor ultrasonido"
   ]
  },
  {
   "cell_type": "code",
   "execution_count": null,
   "metadata": {},
   "outputs": [],
   "source": [
    "def obtener_distancia(sensor_index=1):\n",
    "    \"\"\"\n",
    "    Obtener la distancia del sensor ultrasónico.\n",
    "    \n",
    "    @param sensor_index: int - El índice del sensor ultrasónico a usar.\n",
    "    \"\"\"\n",
    "    return cy.ultrasonic2.get(sensor_index)\n"
   ]
  },
  {
   "cell_type": "code",
   "execution_count": null,
   "metadata": {},
   "outputs": [],
   "source": [
    "def obtener_distancia_imprimir():\n",
    "    \"\"\"\n",
    "    Obtener la distancia del sensor ultrasónico y mostrarla en la pantalla.\n",
    "    \"\"\"\n",
    "    cy.console.log(obtener_distancia())"
   ]
  },
  {
   "cell_type": "code",
   "execution_count": null,
   "metadata": {},
   "outputs": [],
   "source": [
    "def obtener_distancia_activar_motor():\n",
    "    \"\"\"\n",
    "    Obtener la distancia del sensor ultrasónico y activar el motor si la distancia es menor a 10 cm.\n",
    "    \"\"\"\n",
    "    while True:\n",
    "        distancia = obtener_distancia()\n",
    "        if distancia > 10:\n",
    "            ajustar_motores(50, -50)\n",
    "        else:\n",
    "            detener_robot()\n",
    "        cy.console.log(distancia)"
   ]
  },
  {
   "cell_type": "code",
   "execution_count": null,
   "metadata": {},
   "outputs": [],
   "source": [
    "def luces_ultrasonido(emotion):\n",
    "    \"\"\"\n",
    "    Funcion para encender las luces del ultrasonido\n",
    "    @param: La emocion a utilizar (sleepy, happy, dizzy, wink, thinking)\n",
    "    \"\"\"\n",
    "    \n",
    "    cy.ultrasonic2.play(emotion, index =1)\n"
   ]
  },
  {
   "cell_type": "markdown",
   "metadata": {},
   "source": [
    "### 4. Eventos"
   ]
  },
  {
   "cell_type": "code",
   "execution_count": null,
   "metadata": {},
   "outputs": [],
   "source": [
    "def main():\n",
    "    \"\"\"\n",
    "    Función principal.\n",
    "    \"\"\"\n",
    "    pass\n",
    "\n",
    "@cy.event.is_press(\"a\")\n",
    "def start_main():\n",
    "    \"\"\"\n",
    "    Inicia la función principal al presionar el botón 'a'.\n",
    "    \"\"\"\n",
    "    main()"
   ]
  },
  {
   "cell_type": "markdown",
   "metadata": {},
   "source": [
    "Cuando lanzamos un evento, este ejecuta una funcion que se le haya asignado. de forma paralela a la ejecucion del programa principal."
   ]
  },
  {
   "cell_type": "code",
   "execution_count": null,
   "metadata": {},
   "outputs": [],
   "source": [
    "@cy.event.receive(\"funcion_receive\") # Recibe el evento 'funcion_receive'\n",
    "def funcion_receive():\n",
    "    \"\"\"\n",
    "    Función para recibir el evento 'funcion_receive'.\n",
    "    \"\"\"\n",
    "    pass\n",
    "        \n",
    "\n",
    "def funcion_broadcast():\n",
    "    \"\"\"\n",
    "    Función para enviar el evento 'funcion_receive'.\n",
    "    \"\"\"\n",
    "    \n",
    "    cy.broadcast(\"funcion_receive\") # Enviar el evento 'funcion_receive'\n",
    "        "
   ]
  },
  {
   "cell_type": "markdown",
   "metadata": {},
   "source": [
    "### 5. Seguidor de lineas"
   ]
  },
  {
   "cell_type": "code",
   "execution_count": null,
   "metadata": {},
   "outputs": [],
   "source": [
    "\"\"\"\n",
    "Direccion de motores por defecto\n",
    "EM2: nevativo - Motor derecho\n",
    "EM1: positivo - Motor izquierdo\n",
    "\"\"\"\n",
    "\n",
    "def seguir_linea(velocidad_base: int= 40):\n",
    "    \"\"\"\n",
    "    Controla el movimiento del robot basado en la desviación del sensor de línea.\n",
    "    ! Conectar los motores a las entradas de su correspondiente lado\n",
    "\n",
    "    @param desviacion_min (int): Umbral de desviación mínima para ajustar a la izquierda.\n",
    "    @param desviacion_max (int): Umbral de desviación máxima para ajustar a la derecha.\n",
    "    @param velocidad_base (int): Velocidad base de los motores, esta siempre debe ser positiva y se usara para ambos motores.\n",
    "    @param desviacion_extrema (int): Valor de desviación extrema que detiene el robot.\n",
    "    \"\"\"\n",
    "\n",
    "    offset = cy.quad_rgb_sensor.get_offset_track(index=1)  # Obtenemos el offset\n",
    "\n",
    "    # Configuramos la velocidad de los motores\n",
    "    \n",
    "    factor = ((offset / 2) * -1) \n",
    "    \n",
    "    motor_derecho = velocidad_base - factor  # Ajustamos la velocidad del motor izquierdo\n",
    "    motor_izquierdo = velocidad_base + factor # Ajustamos la velocidad del motor izquierdo\n",
    "\n",
    "    # Controlamos los motores\n",
    "    m.drive_speed(motor_izquierdo, -motor_derecho)"
   ]
  },
  {
   "cell_type": "markdown",
   "metadata": {},
   "source": [
    "Como romper un ciclo de seguimiento de linea"
   ]
  },
  {
   "cell_type": "code",
   "execution_count": null,
   "metadata": {},
   "outputs": [],
   "source": [
    "def main():\n",
    "    \"\"\"\n",
    "    Función principal.\n",
    "    \"\"\"\n",
    "    while True:\n",
    "        seguir_linea()\n",
    "        if obtener_distancia() < 10:\n",
    "            ajustar_motores(0, 0)\n",
    "            break"
   ]
  },
  {
   "cell_type": "markdown",
   "metadata": {},
   "source": [
    "### 6. Servomotores"
   ]
  },
  {
   "cell_type": "code",
   "execution_count": null,
   "metadata": {},
   "outputs": [],
   "source": [
    "def mover_servo(posicion: int, motor_index: int = 1):\n",
    "    \"\"\"\n",
    "    Mover el servo a una posición específica.\n",
    "\n",
    "    @param posicion (int): Posición a la que se moverá el servo.\n",
    "    @param motor_index (int): Índice del motor al que se moverá el servo.\n",
    "    \"\"\"\n",
    "    m.servo_set(posicion, motor_index)"
   ]
  },
  {
   "cell_type": "markdown",
   "metadata": {},
   "source": [
    "### 7. Luces Led"
   ]
  },
  {
   "cell_type": "code",
   "execution_count": null,
   "metadata": {},
   "outputs": [],
   "source": [
    "def ajustar_led(red: int = 0, green: int = 0, blue: int = 0):\n",
    "    \"\"\"\n",
    "    Ajustar el color de los LEDs.\n",
    "    @param red (int): Valor de intensidad del color rojo.\n",
    "    @param green (int): Valor de intensidad del color verde.\n",
    "    @param blue (int): Valor de intensidad del color azul.\n",
    "    \"\"\"\n",
    "    cy.led.on(red, green, blue)"
   ]
  },
  {
   "cell_type": "code",
   "execution_count": null,
   "metadata": {},
   "outputs": [],
   "source": [
    "def ajustar_led_animado(animation: str = \"rainbow\"):\n",
    "    \"\"\"\n",
    "    Ajustar el color de los LEDs de forma animada.\n",
    "    @param animation (str): Nombre de la animación a mostrar.\n",
    "    \"\"\"\n",
    "    cy.led.play(animation)"
   ]
  },
  {
   "cell_type": "markdown",
   "metadata": {},
   "source": [
    "### 8. Giroscopio "
   ]
  },
  {
   "cell_type": "code",
   "execution_count": null,
   "metadata": {},
   "outputs": [],
   "source": []
  }
 ],
 "metadata": {
  "kernelspec": {
   "display_name": "env",
   "language": "python",
   "name": "python3"
  },
  "language_info": {
   "codemirror_mode": {
    "name": "ipython",
    "version": 3
   },
   "file_extension": ".py",
   "mimetype": "text/x-python",
   "name": "python",
   "nbconvert_exporter": "python",
   "pygments_lexer": "ipython3",
   "version": "3.12.1"
  }
 },
 "nbformat": 4,
 "nbformat_minor": 2
}
